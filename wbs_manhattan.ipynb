{
 "metadata": {
  "language_info": {
   "codemirror_mode": {
    "name": "ipython",
    "version": 3
   },
   "file_extension": ".py",
   "mimetype": "text/x-python",
   "name": "python",
   "nbconvert_exporter": "python",
   "pygments_lexer": "ipython3",
   "version": "3.8.5-final"
  },
  "orig_nbformat": 2,
  "kernelspec": {
   "name": "python38264bitdcb02fb695e341f0912a444394d77451",
   "display_name": "Python 3.8.2 64-bit"
  }
 },
 "nbformat": 4,
 "nbformat_minor": 2,
 "cells": [
  {
   "source": [
    "<h1> Webscraping de um site de torrefadora e tratamento dos dados como Data Frames usando Pandas <h1/>"
   ],
   "cell_type": "markdown",
   "metadata": {}
  },
  {
   "cell_type": "code",
   "execution_count": 1,
   "metadata": {},
   "outputs": [],
   "source": [
    "import requests\n",
    "from bs4 import BeautifulSoup as bs\n",
    "import pandas as pd\n",
    "import matplotlib.pyplot as plt"
   ]
  },
  {
   "cell_type": "code",
   "execution_count": 2,
   "metadata": {},
   "outputs": [],
   "source": [
    "\n",
    "shop_response = requests.get(\"https://manhattancoffeeroasters.com/shop\")\n",
    "\n",
    "shop = bs(shop_response.content, \"html.parser\")\n",
    "coffee_links = shop.find(attrs = {\"class\" : \"products columns-3\"})\n",
    "coffee_links2 = coffee_links.find_all(\"a\")\n",
    "\n",
    "links = []\n",
    "\n",
    "for link in coffee_links2:\n",
    "    links.append(link[\"href\"])\n",
    "\n",
    "links = [links[x] for x in range(0,len(links),2) ]\n"
   ]
  },
  {
   "source": [
    "                               Scraping das páginas individuais dos cafés\n",
    "\n",
    "                                          DEMORA PARA RODAR\n",
    "                                              ||||||||||  \n",
    "                                              VVVVVVVVVV"
   ],
   "cell_type": "markdown",
   "metadata": {}
  },
  {
   "cell_type": "code",
   "execution_count": 3,
   "metadata": {},
   "outputs": [],
   "source": [
    "dict_coffees = {}\n",
    "price = []\n",
    "name = []\n",
    "notes = []\n",
    "origin = []\n",
    "\n",
    "for link in links:\n",
    "    #Request das páginas individuais dos cafés\n",
    "    coffee_page_response = requests.get(link)\n",
    "    coffee_page = bs(coffee_page_response.content,\"html.parser\")\n",
    "    #Coletando nome dos cafés\n",
    "    name.append(coffee_page.find_all(\"h1\")[0].get_text())\n",
    "\n",
    "    #Coletando preço\n",
    "    price.append(float(coffee_page.select(\".price\")[0].get_text()[1:6].strip()))\n",
    "    \n",
    "    #Coletando notas\n",
    "    notes.append(coffee_page.find(attrs = {\"class\":\"origin_taste_processing\"}).find_all(\"ul\")[1].find_all(\"li\")[1].get_text().strip(\"\\n\").strip() + \", \" + coffee_page.find(attrs = {\"class\":\"origin_taste_processing\"}).find_all(\"ul\")[1].find_all(\"li\")[2].get_text().strip(\"\\n\").strip() + \", \" + coffee_page.find(attrs = {\"class\":\"origin_taste_processing\"}).find_all(\"ul\")[1].find_all(\"li\")[3].get_text().strip(\"\\n\").strip())\n",
    "\n",
    "    #Coletando origem\n",
    "    origin.append(coffee_page.find(attrs = {\"class\":\"origin_taste_processing\"}).find_all(\"ul\")[0].find_all(\"li\")[1].get_text().strip(\"\\n\").strip() + \", \" + coffee_page.find(attrs = {\"class\":\"origin_taste_processing\"}).find_all(\"ul\")[0].find_all(\"li\")[2].get_text().strip(\"\\n\").strip())\n",
    "\n",
    "    dict_coffees[name[-1]] = price[-1],notes[-1],origin[-1]"
   ]
  },
  {
   "cell_type": "code",
   "execution_count": 4,
   "metadata": {},
   "outputs": [
    {
     "output_type": "execute_result",
     "data": {
      "text/plain": [
       "                                Preco                               Notas  \\\n",
       "Connoisseurs Choice (Espresso)      9            Cherry, Chocolate, Honey   \n",
       "Diego Bermudez (Filter)          13.5  Lychee, Raspberry, turkish delight   \n",
       "Erasmus (Espresso)                  9     Candied Pecan, Creamy, Plum Jam   \n",
       "Inacio Soares Catuai (Espresso)     8   Chocolate, praline, White flowers   \n",
       "Inacio Soares Catuai (Filter)       8   Chocolate, praline, White flowers   \n",
       "Kinini (Espresso)                   9  Baked Orange, Raspberry, Red Fruit   \n",
       "Kinini (Filter)                     9           Honey, Raspberry, Rhubarb   \n",
       "Kinini natural(Filter)              9  blackberry, Rhubarb, stewed orange   \n",
       "Shantawene washed (Filter)       13.5      Blueberry, Juicy, Purple fruit   \n",
       "Sweet Valley (Filter)            10.5         bubblegum, grape, Red apple   \n",
       "Viani (Espresso)                    8            Cocoa, Juicy, Stonefruit   \n",
       "\n",
       "                                                    Origem  \n",
       "Connoisseurs Choice (Espresso)              Brazil, Panama  \n",
       "Diego Bermudez (Filter)                    cauca, Colombia  \n",
       "Erasmus (Espresso)                          Brazil, Panama  \n",
       "Inacio Soares Catuai (Espresso)      Brazil, mata de minas  \n",
       "Inacio Soares Catuai (Filter)        Brazil, mata de minas  \n",
       "Kinini (Espresso)                    Rwanda, Mbogo, Rusiga  \n",
       "Kinini (Filter)                      Rwanda, Mbogo, Rusiga  \n",
       "Kinini natural(Filter)               Rwanda, Mbogo, Rusiga  \n",
       "Shantawene washed (Filter)        Ethiopia, bombe mountain  \n",
       "Sweet Valley (Filter)            Colombia, Valle del Cauca  \n",
       "Viani (Espresso)                    Colombia, Cundinamarca  "
      ],
      "text/html": "<div>\n<style scoped>\n    .dataframe tbody tr th:only-of-type {\n        vertical-align: middle;\n    }\n\n    .dataframe tbody tr th {\n        vertical-align: top;\n    }\n\n    .dataframe thead th {\n        text-align: right;\n    }\n</style>\n<table border=\"1\" class=\"dataframe\">\n  <thead>\n    <tr style=\"text-align: right;\">\n      <th></th>\n      <th>Preco</th>\n      <th>Notas</th>\n      <th>Origem</th>\n    </tr>\n  </thead>\n  <tbody>\n    <tr>\n      <th>Connoisseurs Choice (Espresso)</th>\n      <td>9</td>\n      <td>Cherry, Chocolate, Honey</td>\n      <td>Brazil, Panama</td>\n    </tr>\n    <tr>\n      <th>Diego Bermudez (Filter)</th>\n      <td>13.5</td>\n      <td>Lychee, Raspberry, turkish delight</td>\n      <td>cauca, Colombia</td>\n    </tr>\n    <tr>\n      <th>Erasmus (Espresso)</th>\n      <td>9</td>\n      <td>Candied Pecan, Creamy, Plum Jam</td>\n      <td>Brazil, Panama</td>\n    </tr>\n    <tr>\n      <th>Inacio Soares Catuai (Espresso)</th>\n      <td>8</td>\n      <td>Chocolate, praline, White flowers</td>\n      <td>Brazil, mata de minas</td>\n    </tr>\n    <tr>\n      <th>Inacio Soares Catuai (Filter)</th>\n      <td>8</td>\n      <td>Chocolate, praline, White flowers</td>\n      <td>Brazil, mata de minas</td>\n    </tr>\n    <tr>\n      <th>Kinini (Espresso)</th>\n      <td>9</td>\n      <td>Baked Orange, Raspberry, Red Fruit</td>\n      <td>Rwanda, Mbogo, Rusiga</td>\n    </tr>\n    <tr>\n      <th>Kinini (Filter)</th>\n      <td>9</td>\n      <td>Honey, Raspberry, Rhubarb</td>\n      <td>Rwanda, Mbogo, Rusiga</td>\n    </tr>\n    <tr>\n      <th>Kinini natural(Filter)</th>\n      <td>9</td>\n      <td>blackberry, Rhubarb, stewed orange</td>\n      <td>Rwanda, Mbogo, Rusiga</td>\n    </tr>\n    <tr>\n      <th>Shantawene washed (Filter)</th>\n      <td>13.5</td>\n      <td>Blueberry, Juicy, Purple fruit</td>\n      <td>Ethiopia, bombe mountain</td>\n    </tr>\n    <tr>\n      <th>Sweet Valley (Filter)</th>\n      <td>10.5</td>\n      <td>bubblegum, grape, Red apple</td>\n      <td>Colombia, Valle del Cauca</td>\n    </tr>\n    <tr>\n      <th>Viani (Espresso)</th>\n      <td>8</td>\n      <td>Cocoa, Juicy, Stonefruit</td>\n      <td>Colombia, Cundinamarca</td>\n    </tr>\n  </tbody>\n</table>\n</div>"
     },
     "metadata": {},
     "execution_count": 4
    }
   ],
   "source": [
    "\n",
    "\n",
    "coffee_df = pd.DataFrame(dict_coffees).transpose()\n",
    "\n",
    "coffee_df.columns = ['Preco','Notas','Origem']\n",
    "\n",
    "coffee_df"
   ]
  },
  {
   "source": [],
   "cell_type": "markdown",
   "metadata": {}
  },
  {
   "cell_type": "code",
   "execution_count": null,
   "metadata": {},
   "outputs": [],
   "source": []
  }
 ]
}